{
  "cells": [
    {
      "cell_type": "code",
      "execution_count": 1,
      "id": "7e07ecad",
      "metadata": {
        "execution": {
          "iopub.execute_input": "2022-07-06T08:47:50.642430Z",
          "iopub.status.busy": "2022-07-06T08:47:50.641949Z",
          "iopub.status.idle": "2022-07-06T08:48:01.946956Z",
          "shell.execute_reply": "2022-07-06T08:48:01.945798Z"
        },
        "papermill": {
          "duration": 11.311818,
          "end_time": "2022-07-06T08:48:01.949487",
          "exception": false,
          "start_time": "2022-07-06T08:47:50.637669",
          "status": "completed"
        },
        "tags": [],
        "colab": {
          "base_uri": "https://localhost:8080/"
        },
        "id": "7e07ecad",
        "outputId": "f07561b9-eee4-4717-ee27-d93966e841ee"
      },
      "outputs": [
        {
          "output_type": "stream",
          "name": "stdout",
          "text": [
            "Looking in indexes: https://pypi.org/simple, https://us-python.pkg.dev/colab-wheels/public/simple/\n",
            "Collecting pygad\n",
            "  Downloading pygad-2.16.3-py3-none-any.whl (53 kB)\n",
            "\u001b[K     |████████████████████████████████| 53 kB 1.5 MB/s \n",
            "\u001b[?25hRequirement already satisfied: numpy in /usr/local/lib/python3.7/dist-packages (from pygad) (1.21.6)\n",
            "Requirement already satisfied: matplotlib in /usr/local/lib/python3.7/dist-packages (from pygad) (3.2.2)\n",
            "Requirement already satisfied: cycler>=0.10 in /usr/local/lib/python3.7/dist-packages (from matplotlib->pygad) (0.11.0)\n",
            "Requirement already satisfied: python-dateutil>=2.1 in /usr/local/lib/python3.7/dist-packages (from matplotlib->pygad) (2.8.2)\n",
            "Requirement already satisfied: kiwisolver>=1.0.1 in /usr/local/lib/python3.7/dist-packages (from matplotlib->pygad) (1.4.3)\n",
            "Requirement already satisfied: pyparsing!=2.0.4,!=2.1.2,!=2.1.6,>=2.0.1 in /usr/local/lib/python3.7/dist-packages (from matplotlib->pygad) (3.0.9)\n",
            "Requirement already satisfied: typing-extensions in /usr/local/lib/python3.7/dist-packages (from kiwisolver>=1.0.1->matplotlib->pygad) (4.1.1)\n",
            "Requirement already satisfied: six>=1.5 in /usr/local/lib/python3.7/dist-packages (from python-dateutil>=2.1->matplotlib->pygad) (1.15.0)\n",
            "Installing collected packages: pygad\n",
            "Successfully installed pygad-2.16.3\n"
          ]
        }
      ],
      "source": [
        "!pip install pygad"
      ]
    },
    {
      "cell_type": "code",
      "source": [
        "!wget https://github.com/ZilongBai/KDD2020BMGUFS/raw/master/dataset.zip\n",
        "!unzip dataset.zip\n",
        "!mkdir results"
      ],
      "metadata": {
        "colab": {
          "base_uri": "https://localhost:8080/"
        },
        "id": "N-FPnepq1xcj",
        "outputId": "e371549c-a040-487a-90ae-9540a4c36884"
      },
      "id": "N-FPnepq1xcj",
      "execution_count": 2,
      "outputs": [
        {
          "output_type": "stream",
          "name": "stdout",
          "text": [
            "--2022-07-06 15:34:28--  https://github.com/ZilongBai/KDD2020BMGUFS/raw/master/dataset.zip\n",
            "Resolving github.com (github.com)... 140.82.114.3\n",
            "Connecting to github.com (github.com)|140.82.114.3|:443... connected.\n",
            "HTTP request sent, awaiting response... 302 Found\n",
            "Location: https://raw.githubusercontent.com/ZilongBai/KDD2020BMGUFS/master/dataset.zip [following]\n",
            "--2022-07-06 15:34:29--  https://raw.githubusercontent.com/ZilongBai/KDD2020BMGUFS/master/dataset.zip\n",
            "Resolving raw.githubusercontent.com (raw.githubusercontent.com)... 185.199.109.133, 185.199.111.133, 185.199.110.133, ...\n",
            "Connecting to raw.githubusercontent.com (raw.githubusercontent.com)|185.199.109.133|:443... connected.\n",
            "HTTP request sent, awaiting response... 200 OK\n",
            "Length: 1643935 (1.6M) [application/zip]\n",
            "Saving to: ‘dataset.zip’\n",
            "\n",
            "dataset.zip         100%[===================>]   1.57M  --.-KB/s    in 0.009s  \n",
            "\n",
            "2022-07-06 15:34:29 (181 MB/s) - ‘dataset.zip’ saved [1643935/1643935]\n",
            "\n",
            "Archive:  dataset.zip\n",
            "  inflating: dataset/BlogCatalog_Attributes.csv  \n",
            "  inflating: dataset/BlogCatalog_Network.csv  \n",
            "  inflating: dataset/blogcatalog_nmtf_6_10_F.csv  \n",
            "  inflating: dataset/blogcatalog_nmtf_6_10_M.csv  \n",
            "  inflating: dataset/blogcatalog_nmtf_6_1_F.csv  \n",
            "  inflating: dataset/blogcatalog_nmtf_6_1_M.csv  \n",
            "  inflating: dataset/blogcatalog_nmtf_6_2_F.csv  \n",
            "  inflating: dataset/blogcatalog_nmtf_6_2_M.csv  \n",
            "  inflating: dataset/blogcatalog_nmtf_6_3_F.csv  \n",
            "  inflating: dataset/blogcatalog_nmtf_6_3_M.csv  \n",
            "  inflating: dataset/blogcatalog_nmtf_6_4_F.csv  \n",
            "  inflating: dataset/blogcatalog_nmtf_6_4_M.csv  \n",
            "  inflating: dataset/blogcatalog_nmtf_6_5_F.csv  \n",
            "  inflating: dataset/blogcatalog_nmtf_6_5_M.csv  \n",
            "  inflating: dataset/blogcatalog_nmtf_6_6_F.csv  \n",
            "  inflating: dataset/blogcatalog_nmtf_6_6_M.csv  \n",
            "  inflating: dataset/blogcatalog_nmtf_6_7_F.csv  \n",
            "  inflating: dataset/blogcatalog_nmtf_6_7_M.csv  \n",
            "  inflating: dataset/blogcatalog_nmtf_6_8_F.csv  \n",
            "  inflating: dataset/blogcatalog_nmtf_6_8_M.csv  \n",
            "  inflating: dataset/blogcatalog_nmtf_6_9_F.csv  \n",
            "  inflating: dataset/blogcatalog_nmtf_6_9_M.csv  \n"
          ]
        }
      ]
    },
    {
      "cell_type": "code",
      "source": [
        "from sklearn.metrics import normalized_mutual_info_score, adjusted_rand_score\n",
        "\n",
        "nmi = normalized_mutual_info_score\n",
        "ari = adjusted_rand_score\n",
        "\n",
        "\n",
        "def acc(y_true, y_pred):\n",
        "    \"\"\"\n",
        "    Calculate clustering accuracy. Require scikit-learn installed\n",
        "    # Arguments\n",
        "        y: true labels, numpy.array with shape `(n_samples,)`\n",
        "        y_pred: predicted labels, numpy.array with shape `(n_samples,)`\n",
        "    # Return\n",
        "        accuracy, in [0,1]\n",
        "    \"\"\"\n",
        "    y_true = y_true.astype(np.int64)\n",
        "    assert y_pred.size == y_true.size\n",
        "    D = max(y_pred.max(), y_true.max()) + 1\n",
        "    w = np.zeros((D, D), dtype=np.int64)\n",
        "    for i in range(y_pred.size):\n",
        "        w[y_pred[i], y_true[i]] += 1\n",
        "    # from sklearn.utils.linear_assignment_ import linear_assignment\n",
        "    from scipy.optimize import linear_sum_assignment as linear_assignment\n",
        "    ind = linear_assignment(w.max() - w)\n",
        "    #return sum([w[i, j] for i, j in ind]) * 1.0 / y_pred.size\n",
        "    return sum(w[ind]) * 1.0 / y_pred.size"
      ],
      "metadata": {
        "id": "gc_1tiux8VS4"
      },
      "id": "gc_1tiux8VS4",
      "execution_count": 3,
      "outputs": []
    },
    {
      "cell_type": "code",
      "execution_count": 4,
      "id": "e83a570e",
      "metadata": {
        "execution": {
          "iopub.execute_input": "2022-07-06T08:48:03.764822Z",
          "iopub.status.busy": "2022-07-06T08:48:03.764310Z",
          "iopub.status.idle": "2022-07-06T08:49:04.385349Z",
          "shell.execute_reply": "2022-07-06T08:49:04.384311Z"
        },
        "papermill": {
          "duration": 60.629187,
          "end_time": "2022-07-06T08:49:04.390011",
          "exception": false,
          "start_time": "2022-07-06T08:48:03.760824",
          "status": "completed"
        },
        "tags": [],
        "colab": {
          "base_uri": "https://localhost:8080/"
        },
        "id": "e83a570e",
        "outputId": "de0c269a-ede1-4be6-d2e4-e783a6e794a6"
      },
      "outputs": [
        {
          "output_type": "stream",
          "name": "stdout",
          "text": [
            "Loading raw graph...\n",
            "Loading nodal attributes...\n",
            "Loading block allocation ...\n",
            "Loading mixing/image matrix ...\n"
          ]
        }
      ],
      "source": [
        "# This is file of methods for paper \"Block Model Guided Unsupervised Feature Selection\" accepted at SIGKDD 2020\n",
        "# Authors: Zilong Bai, Hoa Nguyen, Ian Davidson\n",
        "# Code implemented by: Zilong Bai @ UC Davis\n",
        "# This script demonstrates how to use Algorithm 1 BMGUFS from our paper on the BlogCatalog data for feature selection.\n",
        "\n",
        "import numpy as np\n",
        "import torch\n",
        "\n",
        "datastr = 'dataset/'\n",
        "resultstr = 'results/'\n",
        "\n",
        "print('Loading raw graph...')\n",
        "Original_X = np.genfromtxt((datastr+'BlogCatalog_Network.csv'),delimiter=',')\n",
        "\n",
        "print('Loading nodal attributes...')\n",
        "Original_Y = np.genfromtxt((datastr+'BlogCatalog_Attributes.csv'),delimiter=',')\n",
        "\n",
        "kmin = 6; kmax = 6;\n",
        "repmax = 10;\n",
        "gammas = [4] # Grid-search\n",
        "betas = [0]\n",
        "MAXITER = 200 # 200 iterations. \n",
        "step_size = 1e-2\n",
        "delta = 1e-6\n",
        "\n",
        "repselected = 3 # Lowest RRE.\n",
        "\n",
        "kstr = str(kmin);\n",
        "\n",
        "# At each k, we first find which block model achieves the lowest reconstruction loss\n",
        "rep = repselected\n",
        "repstr = str(rep) # Already aligned rep to start at 1. No need to add 1 to translate to matlab indexing.\n",
        "\n",
        "print('Loading block allocation ...')\n",
        "Original_F = np.genfromtxt((datastr+'blogcatalog_nmtf_'+kstr+'_'+repstr+'_F.csv'),delimiter=',');\n",
        "\n",
        "print('Loading mixing/image matrix ...')\n",
        "Original_Ms = np.genfromtxt((datastr+'blogcatalog_nmtf_'+kstr+'_'+repstr+'_M.csv'),delimiter=',');\n"
      ]
    },
    {
      "cell_type": "code",
      "source": [
        ""
      ],
      "metadata": {
        "id": "HTKiCVCk3awW"
      },
      "id": "HTKiCVCk3awW",
      "execution_count": null,
      "outputs": []
    },
    {
      "cell_type": "code",
      "execution_count": 5,
      "id": "81441bd6",
      "metadata": {
        "_cell_guid": "b1076dfc-b9ad-4769-8c92-a6c4dae69d19",
        "_uuid": "8f2839f25d086af736a60e9eeb907d3b93b6e0e5",
        "execution": {
          "iopub.execute_input": "2022-07-06T08:48:01.956764Z",
          "iopub.status.busy": "2022-07-06T08:48:01.956440Z",
          "iopub.status.idle": "2022-07-06T08:48:03.755717Z",
          "shell.execute_reply": "2022-07-06T08:48:03.754765Z"
        },
        "papermill": {
          "duration": 1.805379,
          "end_time": "2022-07-06T08:48:03.758063",
          "exception": false,
          "start_time": "2022-07-06T08:48:01.952684",
          "status": "completed"
        },
        "tags": [],
        "id": "81441bd6"
      },
      "outputs": [],
      "source": [
        "# This is file of methods for paper \"Block Model Guided Unsupervised Feature Selection\" accepted at SIGKDD 2020\n",
        "# Authors: Zilong Bai, Hoa Nguyen, Ian Davidson\n",
        "# Code implemented by: Zilong Bai @ UC Davis\n",
        "# This module implements Algorithm 1 for BMGUFS from our paper.\n",
        "\n",
        "import numpy as np\n",
        "from numpy import linalg as LA\n",
        "import torch\n",
        "import pygad\n",
        "\n",
        "\n",
        "def solver_delta_enhanced_sparse(X,Y,F,Ms,delta):\n",
        "# Y is n x f feature matrix. Nonnegative.\n",
        "# F is n x k block allocation matrix. Binary.\n",
        "# Ms is k x k image/mixing matrix of the raw network topology.\n",
        "# beta is the ratio of KL-divergence term.\n",
        "# delta is minor postive scalar to avoid trivial solution.\n",
        "# MAXITER is a large integer for the maximum amount of iterations.\n",
        "# step_size is the step size for gradient descent\n",
        "    [n,f] = Y.shape\n",
        "    k = F.shape[1]\n",
        "    D = np.identity(k)\n",
        "    for j in range(k):\n",
        "        D[j,j] = LA.norm(F[:,j])**2\n",
        "\n",
        "    cuda = torch.device('cuda')\n",
        "\n",
        "    F = torch.from_numpy(F).float().to(cuda)\n",
        "    Y = torch.from_numpy(Y).float().to(cuda)\n",
        "    D = torch.from_numpy(D).float().to(cuda)\n",
        "    X = torch.from_numpy(X).float().to(cuda)\n",
        "        \n",
        "    Dbar = torch.mm(D.inverse(),torch.mm(F.t(),Y))\n",
        "\n",
        "    Ms = Ms + np.ones((k,k))*delta\n",
        "    Ms = torch.from_numpy(Ms).float().to(cuda)\n",
        "    \n",
        "    def fitness_fun(r, solution_idx):\n",
        "        r = torch.from_numpy(r).float().to(cuda)\n",
        "        for l in range(f):\n",
        "          r[l] = max(r[l],0)\n",
        "        normr = torch.norm(r)\n",
        "        r = r/normr\n",
        "        R = torch.diag(r)\n",
        "        M = torch.mm(torch.mm(Dbar,R),Dbar.t())\n",
        "        M = M + torch.ones(k,k).to(cuda)*delta\n",
        "        A = torch.mm(torch.mm(Y,R),Y.t())\n",
        "        KK = torch.mm(torch.mm(F,M),F.t())        \n",
        "        loss = np.linalg.norm(KK.cpu().numpy() - A.cpu().numpy(), ord = 'fro')\n",
        "        fitness = 1/loss\n",
        "        return fitness\n",
        "\n",
        "    ga_instance = pygad.GA(num_generations=500,\n",
        "                           num_parents_mating=10,\n",
        "                           fitness_func=fitness_fun,\n",
        "                           sol_per_pop=20,\n",
        "                           num_genes=8189,\n",
        "                           init_range_low=0.0,\n",
        "                           init_range_high=1.0,\n",
        "                           mutation_percent_genes=0.01,\n",
        "                           mutation_type=\"random\")\n",
        "    \n",
        "    ga_instance.run()\n",
        "    \n",
        "    return ga_instance\n"
      ]
    },
    {
      "cell_type": "code",
      "execution_count": 6,
      "id": "f35a8e7f",
      "metadata": {
        "execution": {
          "iopub.execute_input": "2022-07-06T08:49:04.396825Z",
          "iopub.status.busy": "2022-07-06T08:49:04.396491Z",
          "iopub.status.idle": "2022-07-06T08:55:21.018021Z",
          "shell.execute_reply": "2022-07-06T08:55:21.016980Z"
        },
        "papermill": {
          "duration": 376.627646,
          "end_time": "2022-07-06T08:55:21.020474",
          "exception": false,
          "start_time": "2022-07-06T08:49:04.392828",
          "status": "completed"
        },
        "tags": [],
        "id": "f35a8e7f",
        "colab": {
          "base_uri": "https://localhost:8080/",
          "height": 396
        },
        "outputId": "83b59709-98ef-4a4f-d65a-db09137cddca"
      },
      "outputs": [
        {
          "output_type": "error",
          "ename": "RuntimeError",
          "evalue": "ignored",
          "traceback": [
            "\u001b[0;31m---------------------------------------------------------------------------\u001b[0m",
            "\u001b[0;31mRuntimeError\u001b[0m                              Traceback (most recent call last)",
            "\u001b[0;32m<ipython-input-6-96e647706c28>\u001b[0m in \u001b[0;36m<module>\u001b[0;34m()\u001b[0m\n\u001b[1;32m      5\u001b[0m \u001b[0mE\u001b[0m \u001b[0;34m=\u001b[0m \u001b[0mX\u001b[0m \u001b[0;34m+\u001b[0m \u001b[0mX\u001b[0m\u001b[0;34m.\u001b[0m\u001b[0mtranspose\u001b[0m\u001b[0;34m(\u001b[0m\u001b[0;34m)\u001b[0m\u001b[0;34m\u001b[0m\u001b[0;34m\u001b[0m\u001b[0m\n\u001b[1;32m      6\u001b[0m \u001b[0mE\u001b[0m\u001b[0;34m[\u001b[0m\u001b[0mnp\u001b[0m\u001b[0;34m.\u001b[0m\u001b[0mwhere\u001b[0m\u001b[0;34m(\u001b[0m\u001b[0mX\u001b[0m\u001b[0;34m>\u001b[0m\u001b[0;36m0\u001b[0m\u001b[0;34m)\u001b[0m\u001b[0;34m]\u001b[0m \u001b[0;34m=\u001b[0m \u001b[0;36m1\u001b[0m\u001b[0;34m\u001b[0m\u001b[0;34m\u001b[0m\u001b[0m\n\u001b[0;32m----> 7\u001b[0;31m \u001b[0mga_instance\u001b[0m \u001b[0;34m=\u001b[0m \u001b[0msolver_delta_enhanced_sparse\u001b[0m\u001b[0;34m(\u001b[0m\u001b[0mX\u001b[0m\u001b[0;34m,\u001b[0m\u001b[0mY\u001b[0m\u001b[0;34m,\u001b[0m\u001b[0mF\u001b[0m\u001b[0;34m,\u001b[0m\u001b[0mMs\u001b[0m\u001b[0;34m,\u001b[0m\u001b[0mdelta\u001b[0m\u001b[0;34m)\u001b[0m\u001b[0;34m\u001b[0m\u001b[0;34m\u001b[0m\u001b[0m\n\u001b[0m\u001b[1;32m      8\u001b[0m \u001b[0;34m\u001b[0m\u001b[0m\n\u001b[1;32m      9\u001b[0m \u001b[0mr\u001b[0m\u001b[0;34m,\u001b[0m \u001b[0msolution_fitness\u001b[0m\u001b[0;34m,\u001b[0m \u001b[0msolution_idx\u001b[0m \u001b[0;34m=\u001b[0m \u001b[0mga_instance\u001b[0m\u001b[0;34m.\u001b[0m\u001b[0mbest_solution\u001b[0m\u001b[0;34m(\u001b[0m\u001b[0;34m)\u001b[0m\u001b[0;34m\u001b[0m\u001b[0;34m\u001b[0m\u001b[0m\n",
            "\u001b[0;32m<ipython-input-5-f5a1757dffc9>\u001b[0m in \u001b[0;36msolver_delta_enhanced_sparse\u001b[0;34m(X, Y, F, Ms, delta)\u001b[0m\n\u001b[1;32m     26\u001b[0m     \u001b[0mcuda\u001b[0m \u001b[0;34m=\u001b[0m \u001b[0mtorch\u001b[0m\u001b[0;34m.\u001b[0m\u001b[0mdevice\u001b[0m\u001b[0;34m(\u001b[0m\u001b[0;34m'cuda'\u001b[0m\u001b[0;34m)\u001b[0m\u001b[0;34m\u001b[0m\u001b[0;34m\u001b[0m\u001b[0m\n\u001b[1;32m     27\u001b[0m \u001b[0;34m\u001b[0m\u001b[0m\n\u001b[0;32m---> 28\u001b[0;31m     \u001b[0mF\u001b[0m \u001b[0;34m=\u001b[0m \u001b[0mtorch\u001b[0m\u001b[0;34m.\u001b[0m\u001b[0mfrom_numpy\u001b[0m\u001b[0;34m(\u001b[0m\u001b[0mF\u001b[0m\u001b[0;34m)\u001b[0m\u001b[0;34m.\u001b[0m\u001b[0mfloat\u001b[0m\u001b[0;34m(\u001b[0m\u001b[0;34m)\u001b[0m\u001b[0;34m.\u001b[0m\u001b[0mto\u001b[0m\u001b[0;34m(\u001b[0m\u001b[0mcuda\u001b[0m\u001b[0;34m)\u001b[0m\u001b[0;34m\u001b[0m\u001b[0;34m\u001b[0m\u001b[0m\n\u001b[0m\u001b[1;32m     29\u001b[0m     \u001b[0mY\u001b[0m \u001b[0;34m=\u001b[0m \u001b[0mtorch\u001b[0m\u001b[0;34m.\u001b[0m\u001b[0mfrom_numpy\u001b[0m\u001b[0;34m(\u001b[0m\u001b[0mY\u001b[0m\u001b[0;34m)\u001b[0m\u001b[0;34m.\u001b[0m\u001b[0mfloat\u001b[0m\u001b[0;34m(\u001b[0m\u001b[0;34m)\u001b[0m\u001b[0;34m.\u001b[0m\u001b[0mto\u001b[0m\u001b[0;34m(\u001b[0m\u001b[0mcuda\u001b[0m\u001b[0;34m)\u001b[0m\u001b[0;34m\u001b[0m\u001b[0;34m\u001b[0m\u001b[0m\n\u001b[1;32m     30\u001b[0m     \u001b[0mD\u001b[0m \u001b[0;34m=\u001b[0m \u001b[0mtorch\u001b[0m\u001b[0;34m.\u001b[0m\u001b[0mfrom_numpy\u001b[0m\u001b[0;34m(\u001b[0m\u001b[0mD\u001b[0m\u001b[0;34m)\u001b[0m\u001b[0;34m.\u001b[0m\u001b[0mfloat\u001b[0m\u001b[0;34m(\u001b[0m\u001b[0;34m)\u001b[0m\u001b[0;34m.\u001b[0m\u001b[0mto\u001b[0m\u001b[0;34m(\u001b[0m\u001b[0mcuda\u001b[0m\u001b[0;34m)\u001b[0m\u001b[0;34m\u001b[0m\u001b[0;34m\u001b[0m\u001b[0m\n",
            "\u001b[0;32m/usr/local/lib/python3.7/dist-packages/torch/cuda/__init__.py\u001b[0m in \u001b[0;36m_lazy_init\u001b[0;34m()\u001b[0m\n\u001b[1;32m    214\u001b[0m         \u001b[0;31m# This function throws if there's a driver initialization error, no GPUs\u001b[0m\u001b[0;34m\u001b[0m\u001b[0;34m\u001b[0m\u001b[0;34m\u001b[0m\u001b[0m\n\u001b[1;32m    215\u001b[0m         \u001b[0;31m# are found or any other error occurs\u001b[0m\u001b[0;34m\u001b[0m\u001b[0;34m\u001b[0m\u001b[0;34m\u001b[0m\u001b[0m\n\u001b[0;32m--> 216\u001b[0;31m         \u001b[0mtorch\u001b[0m\u001b[0;34m.\u001b[0m\u001b[0m_C\u001b[0m\u001b[0;34m.\u001b[0m\u001b[0m_cuda_init\u001b[0m\u001b[0;34m(\u001b[0m\u001b[0;34m)\u001b[0m\u001b[0;34m\u001b[0m\u001b[0;34m\u001b[0m\u001b[0m\n\u001b[0m\u001b[1;32m    217\u001b[0m         \u001b[0;31m# Some of the queued calls may reentrantly call _lazy_init();\u001b[0m\u001b[0;34m\u001b[0m\u001b[0;34m\u001b[0m\u001b[0;34m\u001b[0m\u001b[0m\n\u001b[1;32m    218\u001b[0m         \u001b[0;31m# we need to just return without initializing in that case.\u001b[0m\u001b[0;34m\u001b[0m\u001b[0;34m\u001b[0m\u001b[0;34m\u001b[0m\u001b[0m\n",
            "\u001b[0;31mRuntimeError\u001b[0m: No CUDA GPUs are available"
          ]
        }
      ],
      "source": [
        "X = np.copy(Original_X)\n",
        "Y = np.copy(Original_Y)\n",
        "Ms = np.copy(Original_Ms);\n",
        "F = np.copy(Original_F);\n",
        "E = X + X.transpose()\n",
        "E[np.where(X>0)] = 1\n",
        "ga_instance = solver_delta_enhanced_sparse(X,Y,F,Ms,delta)\n",
        "\n",
        "r, solution_fitness, solution_idx = ga_instance.best_solution()\n",
        "np.savetxt(resultstr+'ours_blogcatalog_r.csv',r,delimiter=',')"
      ]
    },
    {
      "cell_type": "code",
      "execution_count": null,
      "id": "6745f156",
      "metadata": {
        "execution": {
          "iopub.execute_input": "2022-07-06T08:55:21.027908Z",
          "iopub.status.busy": "2022-07-06T08:55:21.027554Z",
          "iopub.status.idle": "2022-07-06T08:55:21.328176Z",
          "shell.execute_reply": "2022-07-06T08:55:21.327105Z"
        },
        "papermill": {
          "duration": 0.306666,
          "end_time": "2022-07-06T08:55:21.330299",
          "exception": false,
          "start_time": "2022-07-06T08:55:21.023633",
          "status": "completed"
        },
        "tags": [],
        "id": "6745f156",
        "outputId": "97c1c5b0-ce94-4c19-e966-aa41c864459f"
      },
      "outputs": [
        {
          "data": {
            "image/png": "[encoded data removed]",
            "text/plain": [
              "<Figure size 432x288 with 1 Axes>"
            ]
          },
          "metadata": {
            "needs_background": "light"
          },
          "output_type": "display_data"
        },
        {
          "data": {
            "image/png": "[encoded data removed]",
            "text/plain": [
              "<Figure size 432x288 with 1 Axes>"
            ]
          },
          "execution_count": 5,
          "metadata": {},
          "output_type": "execute_result"
        }
      ],
      "source": [
        "ga_instance.plot_fitness()"
      ]
    },
    {
      "cell_type": "code",
      "source": [
        "\n",
        "# Section 5.3 .... accuracy for d = [16 364 128 200 600] for block model with lowest RRE\n",
        "import csv\n",
        "import numpy as np\n",
        "import sklearn.preprocessing\n",
        "import matplotlib.pyplot as plt\n",
        "from sklearn.cluster import KMeans\n",
        "from sklearn.metrics import mutual_info_score , adjusted_mutual_info_score\n",
        "file2 = open(\"/content/dataset/BlogCatalog_Attributes.csv\")\n",
        "data2 = csv.reader(file2)\n",
        "st = []\n",
        "for m in data2:\n",
        "    st.append(m)\n",
        "file2.close()\n",
        "lbl = np.genfromtxt(('/content/labels.csv'),delimiter=',')\n",
        "lbl = lbl.astype(np.int32)\n",
        "st = np.array(st)\n",
        "st = st.astype(np.int64)\n",
        "AccV = []\n",
        "MILwVec = []\n",
        "d = np.array([16,64,128,200,600])\n",
        "file = open('/content/ours_blogcatalog_r.csv')\n",
        "data = csv.reader(file)\n",
        "r = []\n",
        "for rL in data:\n",
        "    r.append(rL)\n",
        "file.close()\n",
        "r2 = [float(r[i][0]) for i in range(0,len(r))]\n",
        "r2 = np.array(r2)\n",
        "r_Srt = np.sort(r2)[::-1]\n",
        "\n",
        "for j in d:  \n",
        "  cnt = 0;\n",
        "  indx = [];\n",
        "  while True:\n",
        "    index1 = np.where(r2 == r_Srt[cnt])\n",
        "    for i in range(0,len(index1)):\n",
        "        indx.append(index1[i][0])\n",
        "    if cnt == j:\n",
        "      break\n",
        "    cnt = cnt + 1;\n",
        "  indx = np.array(indx)\n",
        "  indx = indx.astype(np.int64)\n",
        "  indx = indx[:j]\n",
        "  st2 = st[:,indx]\n",
        "  st2 = st2.astype(np.float64)\n",
        "  sklearn.preprocessing.normalize(st2, norm='l2', axis=1, copy=False, return_norm=False)\n",
        "  kmeans = sklearn.cluster.KMeans(n_clusters=6, init='k-means++', n_init=20, max_iter=300, tol=0.0001, verbose=0, random_state=None, copy_x=True, algorithm='elkan').fit(st2)\n",
        "  Lb = kmeans.labels_\n",
        "  AC = acc(lbl,Lb)\n",
        "  # MILw = mutual_info_score(lbl, Lb, contingency=None)\n",
        "  MILw = adjusted_mutual_info_score(lbl, Lb, average_method='arithmetic')\n",
        "  MILwVec.append(MILw)\n",
        "  AccV.append(AC)\n",
        "AccV = np.array(AccV)\n",
        "MILwVec = np.array(MILwVec)\n",
        "AccV = 100*AccV"
      ],
      "metadata": {
        "id": "CrEYYFTG6dx0"
      },
      "id": "CrEYYFTG6dx0",
      "execution_count": 5,
      "outputs": []
    },
    {
      "cell_type": "code",
      "source": [
        "# plot bars for accuracy\n",
        "#\n",
        "\n",
        "# MImax = 100*Accmax\n",
        "fig = plt.figure(figsize = (10, 5))\n",
        "plt.show()\n",
        "x = np.arange(5)\n",
        "width = 0.1\n",
        "# plot data in grouped manner of bar type\n",
        "plt.bar(x-0.15, AccV, width, color='green')\n",
        "# plt.bar(x, Accmax, width, color='yellow')\n",
        "# plt.bar(x-0.3, AC, width, color='red')\n",
        "plt.xticks(x,['16','64','128','200','600'])\n",
        "plt.xlabel(\"Number of selected features\",fontsize=16)\n",
        "plt.ylabel(\"ACC(%)\",fontsize=16)\n",
        "plt.title(\"Accuracy on BlogCatalog\")\n",
        "plt.legend([\"GA based accuracy\"],loc='upper left')\n",
        "plt.show()"
      ],
      "metadata": {
        "colab": {
          "base_uri": "https://localhost:8080/",
          "height": 318
        },
        "id": "X5s0FUfaHtBg",
        "outputId": "011e105e-5e88-4262-fbc3-a168cc078c7f"
      },
      "id": "X5s0FUfaHtBg",
      "execution_count": 8,
      "outputs": [
        {
          "output_type": "display_data",
          "data": {
            "text/plain": [
              "<Figure size 720x360 with 0 Axes>"
            ]
          },
          "metadata": {}
        },
        {
          "output_type": "display_data",
          "data": {
            "text/plain": [
              "<Figure size 432x288 with 1 Axes>"
            ],
            "image/png": "[encoded data removed]"
          },
          "metadata": {
            "needs_background": "light"
          }
        }
      ]
    }
  ],
  "metadata": {
    "kernelspec": {
      "display_name": "Python 3",
      "language": "python",
      "name": "python3"
    },
    "language_info": {
      "codemirror_mode": {
        "name": "ipython",
        "version": 3
      },
      "file_extension": ".py",
      "mimetype": "text/x-python",
      "name": "python",
      "nbconvert_exporter": "python",
      "pygments_lexer": "ipython3",
      "version": "3.7.12"
    },
    "papermill": {
      "default_parameters": {},
      "duration": 459.950705,
      "end_time": "2022-07-06T08:55:22.557252",
      "environment_variables": {},
      "exception": null,
      "input_path": "__notebook__.ipynb",
      "output_path": "__notebook__.ipynb",
      "parameters": {},
      "start_time": "2022-07-06T08:47:42.606547",
      "version": "2.3.4"
    },
    "colab": {
      "name": "Block-Model-GA-based-unsupervised-feature-selection.ipynb",
      "provenance": [],
      "collapsed_sections": []
    },
    "accelerator": "GPU",
    "gpuClass": "standard"
  },
  "nbformat": 4,
  "nbformat_minor": 5
}